{
 "cells": [
  {
   "cell_type": "code",
   "execution_count": 1,
   "id": "959823bc-dd36-4b1d-905c-3ad21a522b7e",
   "metadata": {},
   "outputs": [
    {
     "name": "stdout",
     "output_type": "stream",
     "text": [
      "Bidding starts.\n"
     ]
    },
    {
     "name": "stdin",
     "output_type": "stream",
     "text": [
      "Enter your cards (e.g., 7-khal 8-copas 10-chbada 12-dhab 11-khal):  7-khal 8-copas 10-chbada 12-dhab 11-khal\n",
      "Enter system cards (e.g., 7-khal 8-copas 10-chbada 12-dhab 11-khal):  7-khal 8-copas 10-chbada 12-dhab 11-khal\n",
      "Enter the card on the table (e.g., 7-khal):  7-khal\n"
     ]
    },
    {
     "name": "stdout",
     "output_type": "stream",
     "text": [
      "Your hand:\n",
      "(7, khal)\n",
      "(8, copas)\n",
      "(10, chbada)\n",
      "(12, dhab)\n",
      "(11, khal)\n",
      "Card on the table: (7, khal)\n"
     ]
    },
    {
     "name": "stdin",
     "output_type": "stream",
     "text": [
      "Your turn to bid. Pass or Take?  Take\n"
     ]
    },
    {
     "name": "stdout",
     "output_type": "stream",
     "text": [
      "You have taken 0 as the trump suit.\n"
     ]
    },
    {
     "name": "stdin",
     "output_type": "stream",
     "text": [
      "Enter card 1:  7-khal\n",
      "Enter card 2:  7-khal\n",
      "Enter system card 1:  7-khal\n",
      "Enter system card 2:  7-khal\n",
      "Enter system card 3:  7-khal\n"
     ]
    },
    {
     "name": "stdout",
     "output_type": "stream",
     "text": [
      "Game continues...\n",
      "Human Hand: [<__main__.Card object at 0x7f476825d960>, <__main__.Card object at 0x7f476825d810>, <__main__.Card object at 0x7f476825d930>, <__main__.Card object at 0x7f476825d900>, <__main__.Card object at 0x7f476825d9f0>, <__main__.Card object at 0x7f476825ddb0>, <__main__.Card object at 0x7f476825dcf0>, <__main__.Card object at 0x7f476825df00>]\n",
      "System Hand: [<__main__.Card object at 0x7f476825da20>, <__main__.Card object at 0x7f476825d990>, <__main__.Card object at 0x7f476825db10>, <__main__.Card object at 0x7f476825dc00>, <__main__.Card object at 0x7f476825dc60>, <__main__.Card object at 0x7f476825de70>, <__main__.Card object at 0x7f476825e020>, <__main__.Card object at 0x7f476825dfc0>]\n",
      "Trump Suit: 0\n"
     ]
    }
   ],
   "source": [
    "class Card:\n",
    "    suits = ['khal', 'copas', 'chbada', 'dhab']\n",
    "\n",
    "    def __init__(self, value, suit):\n",
    "        self.value = value\n",
    "        self.suit = self.suits.index(suit)\n",
    "\n",
    "      \n",
    "\n",
    "    def __str__(self) -> str:\n",
    "         return  \"(\"+str(self.value) + \", \" + Card.suits[self.suit]+ \")\"\n",
    "   \n",
    "class BeloteGame:\n",
    "    def __init__(self):\n",
    "        self.table_card = None\n",
    "        \n",
    "    def determine_trump_suit(self,table_card):\n",
    "        self.trump_suit = self.table_card.suit\n",
    "\n",
    "    def display_hand(self, human_hand):\n",
    "        print(\"Your hand:\")\n",
    "        for card in human_hand:\n",
    "            print(str(card))\n",
    "        print(\"Card on the table:\", str(self.table_card))\n",
    "\n",
    "    def bidding(self):\n",
    "        print(\"Bidding starts.\")\n",
    "        \n",
    "        human_hand_input = input(\"Enter your cards (e.g., 7-khal 8-copas 10-chbada 12-dhab 11-khal): \").split()\n",
    "\n",
    "# Ensure each input card is in the correct format\n",
    "        for card in human_hand_input:\n",
    "           if '-' not in card or len(card.split('-')) != 2:\n",
    "               print(\"Invalid input format. Please enter cards in the format 'value-suit'.\")\n",
    "        # Handle invalid input (e.g., ask the user to input again)\n",
    "               exit()\n",
    "\n",
    "# Once validated, create Card objects\n",
    "        human_hand = [Card(value=card.split('-')[0],suit=card.split('-')[1]) for card in human_hand_input]\n",
    "\n",
    "        \n",
    "        system_hand_input = input(\"Enter system cards (e.g., 7-khal 8-copas 10-chbada 12-dhab 11-khal): \").split()\n",
    " \n",
    " # Ensure each input card is in the correct format\n",
    "        for card in system_hand_input:\n",
    "           if '-' not in card or len(card.split('-')) != 2:\n",
    "               print(\"Invalid input format. Please enter cards in the format 'value-suit'.\")\n",
    "        # Handle invalid input (e.g., ask the user to input again)\n",
    "               exit()\n",
    "\n",
    "# Once validated, create Card objects\n",
    "        system_hand = [Card(value=card.split('-')[0],suit=card.split('-')[1]) for card in system_hand_input]\n",
    "    \n",
    "    \n",
    "        table_card_input = input(\"Enter the card on the table (e.g., 7-khal): \")\n",
    "        self.table_card = Card(value=table_card_input.split('-')[0],suit=table_card_input.split('-')[1])\n",
    "\n",
    "        self.display_hand(human_hand)\n",
    "        choice = input(\"Your turn to bid. Pass or Take? \").lower()\n",
    "        if choice == \"take\":\n",
    "            print(f\"You have taken {self.table_card.suit} as the trump suit.\")\n",
    "            self.determine_trump_suit(self.table_card)\n",
    "            human_hand.append(self.table_card)\n",
    "            additional_cards = [input(f\"Enter card {i+1}: \").split('-') for i in range(2)]\n",
    "            human_hand.extend([Card(value, suit) for value, suit in additional_cards])\n",
    "            system_hand.extend([Card(*input(f\"Enter system card {i+1}: \").split('-')) for i in range(3)])\n",
    "            return \"take\", human_hand, system_hand\n",
    "        else:\n",
    "             print(\"You passed.\")\n",
    "             return \"pass\", human_hand, system_hand, self.table_card\n",
    "\n",
    "    def play_game(self):\n",
    "        bidding_result, human_hand, system_hand = self.bidding()\n",
    "        if bidding_result == \"take\":\n",
    "            print(\"Game continues...\")\n",
    "            print(\"Human Hand:\", human_hand)\n",
    "            print(\"System Hand:\", system_hand)\n",
    "            print(\"Trump Suit:\", self.trump_suit)\n",
    "            # Continue the game logic\n",
    "        else:\n",
    "            print(\"The game is over.\")\n",
    "# Creating a Card object with value 5 and suit 'khal'\n",
    "# card = Card(5, 'khal')\n",
    "\n",
    "# Now you can print the card object\n",
    "# print(card)\n",
    "\n",
    "\n",
    "if __name__ == \"__main__\":\n",
    "    belote_game = BeloteGame()\n",
    "    belote_game.play_game()\n"
   ]
  },
  {
   "cell_type": "code",
   "execution_count": null,
   "id": "fe8be5d2-edaf-4007-b354-86f774eaf7d0",
   "metadata": {},
   "outputs": [],
   "source": []
  }
 ],
 "metadata": {
  "kernelspec": {
   "display_name": "Python 3 (ipykernel)",
   "language": "python",
   "name": "python3"
  },
  "language_info": {
   "codemirror_mode": {
    "name": "ipython",
    "version": 3
   },
   "file_extension": ".py",
   "mimetype": "text/x-python",
   "name": "python",
   "nbconvert_exporter": "python",
   "pygments_lexer": "ipython3",
   "version": "3.10.6"
  }
 },
 "nbformat": 4,
 "nbformat_minor": 5
}
